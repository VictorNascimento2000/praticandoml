{
 "cells": [
  {
   "cell_type": "markdown",
   "metadata": {},
   "source": [
    "# Entendendo o método PCA\n",
    "> SVD Compression\n",
    "- toc: true \n",
    "- badges: true\n",
    "- comments: true\n",
    "- author: Victor Nascimento\n",
    "- categories: [algebra linear]\n",
    "- image: images/chart-preview.png\n",
    "\n",
    "\n"
   ]
  },
  {
   "cell_type": "markdown",
   "metadata": {},
   "source": [
    "Infelizmente o site está com problemas para renderizar figuras 3D. Para acessar o post clique no link abaixo por favor.\n",
    "https://nbviewer.jupyter.org/github/VictorNascimento2000/praticandoml/blob/master/_notebooks/2020-11-16-PCA.ipynb"
   ]
  }
 ],
 "metadata": {
  "kernelspec": {
   "display_name": "Python 3",
   "language": "python",
   "name": "python3"
  },
  "language_info": {
   "codemirror_mode": {
    "name": "ipython",
    "version": 3
   },
   "file_extension": ".py",
   "mimetype": "text/x-python",
   "name": "python",
   "nbconvert_exporter": "python",
   "pygments_lexer": "ipython3",
   "version": "3.7.6"
  }
 },
 "nbformat": 4,
 "nbformat_minor": 4
}
