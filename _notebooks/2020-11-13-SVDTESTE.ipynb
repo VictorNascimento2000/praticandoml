{
 "cells": [
  {
   "cell_type": "markdown",
   "metadata": {},
   "source": [
    "# Usando SVD para comprimir imagens\n",
    "> SVD Compression\n",
    "- toc: true \n",
    "- badges: true\n",
    "- comments: true\n",
    "- author: Victor Nascimento\n",
    "- categories: [jupyter]\n",
    "- image: images/chart-preview.png"
   ]
  },
  {
   "cell_type": "markdown",
   "metadata": {},
   "source": [
    "Uma aplicação muito interessante da Decomposição em Valores Singuladores, mais conhecida pela sua sigla SVD (Singular Values Decomposition) é a de conseguir criar uma aproximação da matrix original, mas usando menos informações. Isso fica mais claro na prática. Suponha que temos a seguinte matrix:\n"
   ]
  },
  {
   "cell_type": "markdown",
   "metadata": {},
   "source": [
    "É claro que as colunas são linearmente dependentes. Portanto não precisamos guarda os 50 números que compõe essa matriz. É muito mais eficiente salvar vetores que resultam nela. Aplicando SVD temos:"
   ]
  },
  {
   "cell_type": "markdown",
   "metadata": {},
   "source": [
    "Vamos ver agora como essa mesma ideia pode ser usada para comprimir imagens."
   ]
  },
  {
   "cell_type": "code",
   "execution_count": 1,
   "metadata": {},
   "outputs": [],
   "source": [
    "#collapse\n",
    "import matplotlib.image as img\n",
    "from skimage import color\n",
    "import matplotlib.pyplot as plt\n",
    "import numpy as np\n",
    "from math import log"
   ]
  },
  {
   "cell_type": "code",
   "execution_count": null,
   "metadata": {},
   "outputs": [],
   "source": []
  }
 ],
 "metadata": {
  "kernelspec": {
   "display_name": "Python 3",
   "language": "python",
   "name": "python3"
  },
  "language_info": {
   "codemirror_mode": {
    "name": "ipython",
    "version": 3
   },
   "file_extension": ".py",
   "mimetype": "text/x-python",
   "name": "python",
   "nbconvert_exporter": "python",
   "pygments_lexer": "ipython3",
   "version": "3.7.6"
  }
 },
 "nbformat": 4,
 "nbformat_minor": 4
}
